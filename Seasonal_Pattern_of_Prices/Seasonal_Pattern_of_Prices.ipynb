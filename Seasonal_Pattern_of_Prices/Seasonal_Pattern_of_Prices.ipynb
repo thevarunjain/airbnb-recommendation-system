{
 "cells": [
  {
   "cell_type": "markdown",
   "metadata": {},
   "source": [
    "# Analysis on Seasonal Pattern of Prices"
   ]
  },
  {
   "cell_type": "code",
   "execution_count": 8,
   "metadata": {},
   "outputs": [
    {
     "data": {
      "text/html": [
       "<div>\n",
       "<style scoped>\n",
       "    .dataframe tbody tr th:only-of-type {\n",
       "        vertical-align: middle;\n",
       "    }\n",
       "\n",
       "    .dataframe tbody tr th {\n",
       "        vertical-align: top;\n",
       "    }\n",
       "\n",
       "    .dataframe thead th {\n",
       "        text-align: right;\n",
       "    }\n",
       "</style>\n",
       "<table border=\"1\" class=\"dataframe\">\n",
       "  <thead>\n",
       "    <tr style=\"text-align: right;\">\n",
       "      <th></th>\n",
       "      <th>listing_id</th>\n",
       "      <th>date</th>\n",
       "      <th>available</th>\n",
       "      <th>price</th>\n",
       "      <th>Year</th>\n",
       "      <th>Month</th>\n",
       "      <th>Day</th>\n",
       "    </tr>\n",
       "  </thead>\n",
       "  <tbody>\n",
       "    <tr>\n",
       "      <th>1393207</th>\n",
       "      <td>10208623</td>\n",
       "      <td>2016-01-06</td>\n",
       "      <td>t</td>\n",
       "      <td>87.0</td>\n",
       "      <td>2016</td>\n",
       "      <td>01</td>\n",
       "      <td>06</td>\n",
       "    </tr>\n",
       "    <tr>\n",
       "      <th>1393208</th>\n",
       "      <td>10208623</td>\n",
       "      <td>2016-01-07</td>\n",
       "      <td>t</td>\n",
       "      <td>87.0</td>\n",
       "      <td>2016</td>\n",
       "      <td>01</td>\n",
       "      <td>07</td>\n",
       "    </tr>\n",
       "    <tr>\n",
       "      <th>1393211</th>\n",
       "      <td>10208623</td>\n",
       "      <td>2016-01-10</td>\n",
       "      <td>t</td>\n",
       "      <td>87.0</td>\n",
       "      <td>2016</td>\n",
       "      <td>01</td>\n",
       "      <td>10</td>\n",
       "    </tr>\n",
       "    <tr>\n",
       "      <th>1393212</th>\n",
       "      <td>10208623</td>\n",
       "      <td>2016-01-11</td>\n",
       "      <td>t</td>\n",
       "      <td>87.0</td>\n",
       "      <td>2016</td>\n",
       "      <td>01</td>\n",
       "      <td>11</td>\n",
       "    </tr>\n",
       "    <tr>\n",
       "      <th>1393213</th>\n",
       "      <td>10208623</td>\n",
       "      <td>2016-01-12</td>\n",
       "      <td>t</td>\n",
       "      <td>87.0</td>\n",
       "      <td>2016</td>\n",
       "      <td>01</td>\n",
       "      <td>12</td>\n",
       "    </tr>\n",
       "  </tbody>\n",
       "</table>\n",
       "</div>"
      ],
      "text/plain": [
       "         listing_id        date available  price  Year Month Day\n",
       "1393207    10208623  2016-01-06         t   87.0  2016    01  06\n",
       "1393208    10208623  2016-01-07         t   87.0  2016    01  07\n",
       "1393211    10208623  2016-01-10         t   87.0  2016    01  10\n",
       "1393212    10208623  2016-01-11         t   87.0  2016    01  11\n",
       "1393213    10208623  2016-01-12         t   87.0  2016    01  12"
      ]
     },
     "execution_count": 8,
     "metadata": {},
     "output_type": "execute_result"
    }
   ],
   "source": [
    "#Cleaning the data\n",
    "\n",
    "import pandas as pd\n",
    "import numpy as np\n",
    "import re\n",
    "\n",
    "calendarDF=pd.read_csv(\"calendar.csv\")\n",
    "\n",
    "#replacing NaN values with 0\n",
    "calendarDF.fillna(0, inplace=True)\n",
    "#export_csv = calendarDF.to_csv (r'/Users/abhishekkonduri/Main/CMPE_256/Final_Project/seattle/check.csv', index = None, header=True)\n",
    "calendarDF = calendarDF[calendarDF.price != 0]\n",
    "#export_csv = calendarDF.to_csv (r'/Users/abhishekkonduri/Main/CMPE_256/Final_Project/seattle/check2.csv', index = None, header=True)\n",
    "\n",
    "# #Extracting prices from the table\n",
    "price = calendarDF['price']\n",
    "# Create a prices array which will be later used to append price values\n",
    "prices=[]\n",
    "\n",
    "#if anything other than digits between 0 and 9 found , just replace it with ''\n",
    "for p in price:\n",
    "    p = re.sub('[^0-9.]+','', p)\n",
    "    prices.append(float(p))\n",
    "    \n",
    "# #replace the price column with the new column\n",
    "calendarDF['price']=prices\n",
    "\n",
    "calendarDF = calendarDF[calendarDF.price >= 0]\n",
    "\n",
    "# #separating date column into day month and year\n",
    "calendarDF['Year'],calendarDF['Month'],calendarDF['Day']=calendarDF['date'].str.split('-',2).str\n",
    "calendarDF.tail()\n",
    "\n",
    "#export_csv = calendarDF.to_csv (r'/Users/abhishekkonduri/Main/CMPE_256/Final_Project/seattle/export_dataframe.csv', index = None, header=True)"
   ]
  },
  {
   "cell_type": "code",
   "execution_count": 9,
   "metadata": {},
   "outputs": [
    {
     "data": {
      "text/html": [
       "<div>\n",
       "<style scoped>\n",
       "    .dataframe tbody tr th:only-of-type {\n",
       "        vertical-align: middle;\n",
       "    }\n",
       "\n",
       "    .dataframe tbody tr th {\n",
       "        vertical-align: top;\n",
       "    }\n",
       "\n",
       "    .dataframe thead th {\n",
       "        text-align: right;\n",
       "    }\n",
       "</style>\n",
       "<table border=\"1\" class=\"dataframe\">\n",
       "  <thead>\n",
       "    <tr style=\"text-align: right;\">\n",
       "      <th></th>\n",
       "      <th>Year</th>\n",
       "      <th>Month</th>\n",
       "      <th>average_Price</th>\n",
       "      <th>year-Month</th>\n",
       "    </tr>\n",
       "  </thead>\n",
       "  <tbody>\n",
       "    <tr>\n",
       "      <th>0</th>\n",
       "      <td>2016</td>\n",
       "      <td>01</td>\n",
       "      <td>121.568409</td>\n",
       "      <td>2016-01</td>\n",
       "    </tr>\n",
       "    <tr>\n",
       "      <th>1</th>\n",
       "      <td>2016</td>\n",
       "      <td>02</td>\n",
       "      <td>124.293927</td>\n",
       "      <td>2016-02</td>\n",
       "    </tr>\n",
       "    <tr>\n",
       "      <th>2</th>\n",
       "      <td>2016</td>\n",
       "      <td>03</td>\n",
       "      <td>128.644488</td>\n",
       "      <td>2016-03</td>\n",
       "    </tr>\n",
       "    <tr>\n",
       "      <th>3</th>\n",
       "      <td>2016</td>\n",
       "      <td>04</td>\n",
       "      <td>135.097005</td>\n",
       "      <td>2016-04</td>\n",
       "    </tr>\n",
       "    <tr>\n",
       "      <th>4</th>\n",
       "      <td>2016</td>\n",
       "      <td>05</td>\n",
       "      <td>139.538183</td>\n",
       "      <td>2016-05</td>\n",
       "    </tr>\n",
       "  </tbody>\n",
       "</table>\n",
       "</div>"
      ],
      "text/plain": [
       "   Year Month  average_Price year-Month\n",
       "0  2016    01     121.568409    2016-01\n",
       "1  2016    02     124.293927    2016-02\n",
       "2  2016    03     128.644488    2016-03\n",
       "3  2016    04     135.097005    2016-04\n",
       "4  2016    05     139.538183    2016-05"
      ]
     },
     "execution_count": 9,
     "metadata": {},
     "output_type": "execute_result"
    }
   ],
   "source": [
    "yearDF=calendarDF.groupby(['Year','Month']).price.mean()\n",
    "yearDF=yearDF.reset_index()\n",
    "yearDF=yearDF.rename(columns={'price':'average_Price'})\n",
    "yearDF['year-Month']=yearDF['Year'].map(str) + \"-\" + yearDF['Month'].map(str)\n",
    "yearDF.to_csv('calendarOutput.csv')\n",
    "yearDF.head()"
   ]
  },
  {
   "cell_type": "code",
   "execution_count": 10,
   "metadata": {},
   "outputs": [
    {
     "data": {
      "text/plain": [
       "Text(0, 0.5, 'Average Price')"
      ]
     },
     "execution_count": 10,
     "metadata": {},
     "output_type": "execute_result"
    },
    {
     "data": {
      "image/png": "[encoded data removed]",
      "text/plain": [
       "<Figure size 1080x576 with 1 Axes>"
      ]
     },
     "metadata": {},
     "output_type": "display_data"
    }
   ],
   "source": [
    "%matplotlib inline\n",
    "\n",
    "import matplotlib\n",
    "import matplotlib.pyplot as plt\n",
    "matplotlib.style.use('ggplot')\n",
    "\n",
    "objects = yearDF['year-Month']\n",
    "y_pos = yearDF['average_Price']\n",
    "\n",
    "yearDF.plot(kind='bar', \n",
    "           x='year-Month',\n",
    "           y='average_Price',\n",
    "           color = '#66c2ff', \n",
    "           figsize =(15,8), \n",
    "           title = 'Seattle Airbnb prices trend over months', \n",
    "           legend = False)\n",
    "plt.ylabel('Average Price')"
   ]
  },
  {
   "cell_type": "code",
   "execution_count": 15,
   "metadata": {},
   "outputs": [
    {
     "name": "stderr",
     "output_type": "stream",
     "text": [
      "/Users/abhishekkonduri/anaconda3/lib/python3.7/site-packages/ipykernel_launcher.py:20: FutureWarning: set_value is deprecated and will be removed in a future release. Please use .at[] or .iat[] accessors instead\n",
      "/Users/abhishekkonduri/anaconda3/lib/python3.7/site-packages/ipykernel_launcher.py:21: FutureWarning: set_value is deprecated and will be removed in a future release. Please use .at[] or .iat[] accessors instead\n",
      "/Users/abhishekkonduri/anaconda3/lib/python3.7/site-packages/ipykernel_launcher.py:22: FutureWarning: set_value is deprecated and will be removed in a future release. Please use .at[] or .iat[] accessors instead\n"
     ]
    },
    {
     "data": {
      "text/html": [
       "<div>\n",
       "<style scoped>\n",
       "    .dataframe tbody tr th:only-of-type {\n",
       "        vertical-align: middle;\n",
       "    }\n",
       "\n",
       "    .dataframe tbody tr th {\n",
       "        vertical-align: top;\n",
       "    }\n",
       "\n",
       "    .dataframe thead th {\n",
       "        text-align: right;\n",
       "    }\n",
       "</style>\n",
       "<table border=\"1\" class=\"dataframe\">\n",
       "  <thead>\n",
       "    <tr style=\"text-align: right;\">\n",
       "      <th></th>\n",
       "      <th>listing_id</th>\n",
       "      <th>date</th>\n",
       "      <th>available</th>\n",
       "      <th>price</th>\n",
       "      <th>Year</th>\n",
       "      <th>Month</th>\n",
       "      <th>Day</th>\n",
       "      <th>day_Name</th>\n",
       "      <th>holiday</th>\n",
       "      <th>us_holidays_name</th>\n",
       "    </tr>\n",
       "  </thead>\n",
       "  <tbody>\n",
       "    <tr>\n",
       "      <th>0</th>\n",
       "      <td>241032</td>\n",
       "      <td>2016-01-04</td>\n",
       "      <td>t</td>\n",
       "      <td>85.0</td>\n",
       "      <td>2016</td>\n",
       "      <td>01</td>\n",
       "      <td>04</td>\n",
       "      <td>Monday</td>\n",
       "      <td>False</td>\n",
       "      <td>None</td>\n",
       "    </tr>\n",
       "    <tr>\n",
       "      <th>1</th>\n",
       "      <td>241032</td>\n",
       "      <td>2016-01-05</td>\n",
       "      <td>t</td>\n",
       "      <td>85.0</td>\n",
       "      <td>2016</td>\n",
       "      <td>01</td>\n",
       "      <td>05</td>\n",
       "      <td>Tuesday</td>\n",
       "      <td>False</td>\n",
       "      <td>None</td>\n",
       "    </tr>\n",
       "    <tr>\n",
       "      <th>9</th>\n",
       "      <td>241032</td>\n",
       "      <td>2016-01-13</td>\n",
       "      <td>t</td>\n",
       "      <td>85.0</td>\n",
       "      <td>2016</td>\n",
       "      <td>01</td>\n",
       "      <td>13</td>\n",
       "      <td>Wednesday</td>\n",
       "      <td>False</td>\n",
       "      <td>None</td>\n",
       "    </tr>\n",
       "    <tr>\n",
       "      <th>10</th>\n",
       "      <td>241032</td>\n",
       "      <td>2016-01-14</td>\n",
       "      <td>t</td>\n",
       "      <td>85.0</td>\n",
       "      <td>2016</td>\n",
       "      <td>01</td>\n",
       "      <td>14</td>\n",
       "      <td>Thursday</td>\n",
       "      <td>False</td>\n",
       "      <td>None</td>\n",
       "    </tr>\n",
       "    <tr>\n",
       "      <th>14</th>\n",
       "      <td>241032</td>\n",
       "      <td>2016-01-18</td>\n",
       "      <td>t</td>\n",
       "      <td>85.0</td>\n",
       "      <td>2016</td>\n",
       "      <td>01</td>\n",
       "      <td>18</td>\n",
       "      <td>Monday</td>\n",
       "      <td>True</td>\n",
       "      <td>Martin Luther King, Jr. Day</td>\n",
       "    </tr>\n",
       "  </tbody>\n",
       "</table>\n",
       "</div>"
      ],
      "text/plain": [
       "    listing_id        date available  price  Year Month Day   day_Name  \\\n",
       "0       241032  2016-01-04         t   85.0  2016    01  04     Monday   \n",
       "1       241032  2016-01-05         t   85.0  2016    01  05    Tuesday   \n",
       "9       241032  2016-01-13         t   85.0  2016    01  13  Wednesday   \n",
       "10      241032  2016-01-14         t   85.0  2016    01  14   Thursday   \n",
       "14      241032  2016-01-18         t   85.0  2016    01  18     Monday   \n",
       "\n",
       "   holiday             us_holidays_name  \n",
       "0    False                         None  \n",
       "1    False                         None  \n",
       "9    False                         None  \n",
       "10   False                         None  \n",
       "14    True  Martin Luther King, Jr. Day  "
      ]
     },
     "execution_count": 15,
     "metadata": {},
     "output_type": "execute_result"
    }
   ],
   "source": [
    "#getting day name from date data and holidays\n",
    "# !pip install holidays\n",
    "from datetime import date\n",
    "import holidays\n",
    "import datetime\n",
    "import calendar\n",
    "\n",
    "\n",
    "calendarDF.fillna(0, inplace=True)\n",
    "us_holidays = holidays.US()\n",
    "\n",
    "calendarDF['day_Name']='default'\n",
    "calendarDF['holiday']='False'\n",
    "calendarDF['us_holidays_name']='working'\n",
    "for index,row in calendarDF.iterrows():\n",
    "    sdate = datetime.date(int(row['Year']),int(row['Month']),int(row['Day']))\n",
    "#     print(\"sdate is\",sdate)\n",
    "    vall=date(int(row['Year']),int(row['Month']),int(row['Day'])) in us_holidays\n",
    "#     print(\"vall is\",vall)\n",
    "    calendarDF.set_value(index,'day_Name',calendar.day_name[sdate.weekday()])\n",
    "    calendarDF.set_value(index,'holiday',vall)\n",
    "    calendarDF.set_value(index,'us_holidays_name',us_holidays.get(sdate))\n",
    "calendarDF.to_csv('holidays_data.csv')\n",
    "calendarDF.head()"
   ]
  },
  {
   "cell_type": "code",
   "execution_count": 16,
   "metadata": {},
   "outputs": [
    {
     "name": "stderr",
     "output_type": "stream",
     "text": [
      "/Users/abhishekkonduri/anaconda3/lib/python3.7/site-packages/ipykernel_launcher.py:15: FutureWarning: set_value is deprecated and will be removed in a future release. Please use .at[] or .iat[] accessors instead\n",
      "  from ipykernel import kernelapp as app\n",
      "/Users/abhishekkonduri/anaconda3/lib/python3.7/site-packages/ipykernel_launcher.py:7: FutureWarning: set_value is deprecated and will be removed in a future release. Please use .at[] or .iat[] accessors instead\n",
      "  import sys\n",
      "/Users/abhishekkonduri/anaconda3/lib/python3.7/site-packages/ipykernel_launcher.py:17: FutureWarning: set_value is deprecated and will be removed in a future release. Please use .at[] or .iat[] accessors instead\n",
      "/Users/abhishekkonduri/anaconda3/lib/python3.7/site-packages/ipykernel_launcher.py:19: FutureWarning: set_value is deprecated and will be removed in a future release. Please use .at[] or .iat[] accessors instead\n",
      "/Users/abhishekkonduri/anaconda3/lib/python3.7/site-packages/ipykernel_launcher.py:13: FutureWarning: set_value is deprecated and will be removed in a future release. Please use .at[] or .iat[] accessors instead\n",
      "  del sys.path[0]\n",
      "/Users/abhishekkonduri/anaconda3/lib/python3.7/site-packages/ipykernel_launcher.py:9: FutureWarning: set_value is deprecated and will be removed in a future release. Please use .at[] or .iat[] accessors instead\n",
      "  if __name__ == '__main__':\n",
      "/Users/abhishekkonduri/anaconda3/lib/python3.7/site-packages/ipykernel_launcher.py:11: FutureWarning: set_value is deprecated and will be removed in a future release. Please use .at[] or .iat[] accessors instead\n",
      "  # This is added back by InteractiveShellApp.init_path()\n"
     ]
    },
    {
     "data": {
      "text/html": [
       "<div>\n",
       "<style scoped>\n",
       "    .dataframe tbody tr th:only-of-type {\n",
       "        vertical-align: middle;\n",
       "    }\n",
       "\n",
       "    .dataframe tbody tr th {\n",
       "        vertical-align: top;\n",
       "    }\n",
       "\n",
       "    .dataframe thead th {\n",
       "        text-align: right;\n",
       "    }\n",
       "</style>\n",
       "<table border=\"1\" class=\"dataframe\">\n",
       "  <thead>\n",
       "    <tr style=\"text-align: right;\">\n",
       "      <th></th>\n",
       "      <th>day_Name</th>\n",
       "      <th>Average_Price</th>\n",
       "      <th>day_num</th>\n",
       "    </tr>\n",
       "  </thead>\n",
       "  <tbody>\n",
       "    <tr>\n",
       "      <th>1</th>\n",
       "      <td>Monday</td>\n",
       "      <td>135.676414</td>\n",
       "      <td>1</td>\n",
       "    </tr>\n",
       "    <tr>\n",
       "      <th>5</th>\n",
       "      <td>Tuesday</td>\n",
       "      <td>135.408764</td>\n",
       "      <td>2</td>\n",
       "    </tr>\n",
       "    <tr>\n",
       "      <th>6</th>\n",
       "      <td>Wednesday</td>\n",
       "      <td>135.447880</td>\n",
       "      <td>3</td>\n",
       "    </tr>\n",
       "    <tr>\n",
       "      <th>4</th>\n",
       "      <td>Thursday</td>\n",
       "      <td>136.476032</td>\n",
       "      <td>4</td>\n",
       "    </tr>\n",
       "    <tr>\n",
       "      <th>0</th>\n",
       "      <td>Friday</td>\n",
       "      <td>143.036294</td>\n",
       "      <td>5</td>\n",
       "    </tr>\n",
       "    <tr>\n",
       "      <th>2</th>\n",
       "      <td>Saturday</td>\n",
       "      <td>143.202136</td>\n",
       "      <td>6</td>\n",
       "    </tr>\n",
       "    <tr>\n",
       "      <th>3</th>\n",
       "      <td>Sunday</td>\n",
       "      <td>136.459941</td>\n",
       "      <td>7</td>\n",
       "    </tr>\n",
       "  </tbody>\n",
       "</table>\n",
       "</div>"
      ],
      "text/plain": [
       "    day_Name  Average_Price  day_num\n",
       "1     Monday     135.676414        1\n",
       "5    Tuesday     135.408764        2\n",
       "6  Wednesday     135.447880        3\n",
       "4   Thursday     136.476032        4\n",
       "0     Friday     143.036294        5\n",
       "2   Saturday     143.202136        6\n",
       "3     Sunday     136.459941        7"
      ]
     },
     "execution_count": 16,
     "metadata": {},
     "output_type": "execute_result"
    }
   ],
   "source": [
    "dayDF=calendarDF.groupby('day_Name').price.mean()\n",
    "dayDF=dayDF.reset_index()\n",
    "dayDF['day_num']=0\n",
    "\n",
    "for index,row in dayDF.iterrows():\n",
    "    if row['day_Name']=='Monday':\n",
    "        dayDF.set_value(index,'day_num',1)\n",
    "    if row['day_Name']=='Tuesday':\n",
    "        dayDF.set_value(index,'day_num',2)\n",
    "    if row['day_Name']=='Wednesday':\n",
    "        dayDF.set_value(index,'day_num',3)\n",
    "    if row['day_Name']=='Thursday':\n",
    "        dayDF.set_value(index,'day_num',4)\n",
    "    if row['day_Name']=='Friday':\n",
    "        dayDF.set_value(index,'day_num',5)\n",
    "    if row['day_Name']=='Saturday':\n",
    "        dayDF.set_value(index,'day_num',6)\n",
    "    if row['day_Name']=='Sunday':\n",
    "        dayDF.set_value(index,'day_num',7)\n",
    "dayDF=dayDF.sort_values('day_num',ascending=[1])\n",
    "dayDF=dayDF.rename(columns={'price':'Average_Price'})\n",
    "dayDF"
   ]
  },
  {
   "cell_type": "code",
   "execution_count": 28,
   "metadata": {},
   "outputs": [
    {
     "ename": "ImportError",
     "evalue": "cannot import name 'Scatter' from 'bokeh.plotting' (/Users/abhishekkonduri/anaconda3/lib/python3.7/site-packages/bokeh/plotting/__init__.py)",
     "output_type": "error",
     "traceback": [
      "\u001b[0;31m---------------------------------------------------------------------------\u001b[0m",
      "\u001b[0;31mImportError\u001b[0m                               Traceback (most recent call last)",
      "\u001b[0;32m<ipython-input-28-b416bc859a69>\u001b[0m in \u001b[0;36m<module>\u001b[0;34m\u001b[0m\n\u001b[1;32m      1\u001b[0m \u001b[0;31m# !pip install bokeh\u001b[0m\u001b[0;34m\u001b[0m\u001b[0;34m\u001b[0m\u001b[0;34m\u001b[0m\u001b[0m\n\u001b[0;32m----> 2\u001b[0;31m \u001b[0;32mfrom\u001b[0m \u001b[0mbokeh\u001b[0m\u001b[0;34m.\u001b[0m\u001b[0mplotting\u001b[0m \u001b[0;32mimport\u001b[0m \u001b[0mScatter\u001b[0m\u001b[0;34m,\u001b[0m \u001b[0moutput_notebook\u001b[0m\u001b[0;34m,\u001b[0m \u001b[0mshow\u001b[0m\u001b[0;34m\u001b[0m\u001b[0;34m\u001b[0m\u001b[0m\n\u001b[0m\u001b[1;32m      3\u001b[0m \u001b[0moutput_notebook\u001b[0m\u001b[0;34m(\u001b[0m\u001b[0;34m)\u001b[0m\u001b[0;34m\u001b[0m\u001b[0;34m\u001b[0m\u001b[0m\n\u001b[1;32m      4\u001b[0m \u001b[0;34m\u001b[0m\u001b[0m\n\u001b[1;32m      5\u001b[0m p = Scatter(dayDF, x='day_Name', y='Average_Price', title=\"average price trend over a Week for all the listings\",\n",
      "\u001b[0;31mImportError\u001b[0m: cannot import name 'Scatter' from 'bokeh.plotting' (/Users/abhishekkonduri/anaconda3/lib/python3.7/site-packages/bokeh/plotting/__init__.py)"
     ]
    }
   ],
   "source": [
    "# !pip install bokeh\n",
    "from bokeh.plotting import Scatter, output_notebook, show\n",
    "output_notebook()\n",
    "\n",
    "p = Scatter(dayDF, x='day_Name', y='Average_Price', title=\"average price trend over a Week for all the listings\",\n",
    "            xlabel=\"Days Of Week\", ylabel=\"Average Price\")\n",
    "\n",
    "\n",
    "show(p)"
   ]
  },
  {
   "cell_type": "code",
   "execution_count": 22,
   "metadata": {},
   "outputs": [
    {
     "name": "stdout",
     "output_type": "stream",
     "text": [
      "Requirement already satisfied: bokeh in /Users/abhishekkonduri/anaconda3/lib/python3.7/site-packages (1.0.2)\n",
      "Requirement already satisfied: Jinja2>=2.7 in /Users/abhishekkonduri/anaconda3/lib/python3.7/site-packages (from bokeh) (2.10)\n",
      "Requirement already satisfied: PyYAML>=3.10 in /Users/abhishekkonduri/anaconda3/lib/python3.7/site-packages (from bokeh) (3.13)\n",
      "Requirement already satisfied: numpy>=1.7.1 in /Users/abhishekkonduri/anaconda3/lib/python3.7/site-packages (from bokeh) (1.15.4)\n",
      "Requirement already satisfied: packaging>=16.8 in /Users/abhishekkonduri/anaconda3/lib/python3.7/site-packages (from bokeh) (18.0)\n",
      "Requirement already satisfied: python-dateutil>=2.1 in /Users/abhishekkonduri/anaconda3/lib/python3.7/site-packages (from bokeh) (2.7.5)\n",
      "Requirement already satisfied: tornado>=4.3 in /Users/abhishekkonduri/anaconda3/lib/python3.7/site-packages (from bokeh) (5.1.1)\n",
      "Requirement already satisfied: six>=1.5.2 in /Users/abhishekkonduri/anaconda3/lib/python3.7/site-packages (from bokeh) (1.12.0)\n",
      "Requirement already satisfied: pillow>=4.0 in /Users/abhishekkonduri/anaconda3/lib/python3.7/site-packages (from bokeh) (5.3.0)\n",
      "Requirement already satisfied: MarkupSafe>=0.23 in /Users/abhishekkonduri/anaconda3/lib/python3.7/site-packages (from Jinja2>=2.7->bokeh) (1.1.0)\n",
      "Requirement already satisfied: pyparsing>=2.0.2 in /Users/abhishekkonduri/anaconda3/lib/python3.7/site-packages (from packaging>=16.8->bokeh) (2.3.0)\n"
     ]
    }
   ],
   "source": [
    "!pip install bokeh"
   ]
  },
  {
   "cell_type": "code",
   "execution_count": 29,
   "metadata": {},
   "outputs": [
    {
     "ename": "ImportError",
     "evalue": "cannot import name 'Scatter' from 'bokeh.plotting' (/Users/abhishekkonduri/anaconda3/lib/python3.7/site-packages/bokeh/plotting/__init__.py)",
     "output_type": "error",
     "traceback": [
      "\u001b[0;31m---------------------------------------------------------------------------\u001b[0m",
      "\u001b[0;31mImportError\u001b[0m                               Traceback (most recent call last)",
      "\u001b[0;32m<ipython-input-29-d7edc48f9f35>\u001b[0m in \u001b[0;36m<module>\u001b[0;34m\u001b[0m\n\u001b[0;32m----> 1\u001b[0;31m \u001b[0;32mfrom\u001b[0m \u001b[0mbokeh\u001b[0m\u001b[0;34m.\u001b[0m\u001b[0mplotting\u001b[0m \u001b[0;32mimport\u001b[0m \u001b[0mScatter\u001b[0m\u001b[0;34m\u001b[0m\u001b[0;34m\u001b[0m\u001b[0m\n\u001b[0m",
      "\u001b[0;31mImportError\u001b[0m: cannot import name 'Scatter' from 'bokeh.plotting' (/Users/abhishekkonduri/anaconda3/lib/python3.7/site-packages/bokeh/plotting/__init__.py)"
     ]
    }
   ],
   "source": [
    "from bokeh.plotting import Scatter"
   ]
  },
  {
   "cell_type": "code",
   "execution_count": 25,
   "metadata": {},
   "outputs": [],
   "source": [
    "import bokeh"
   ]
  },
  {
   "cell_type": "code",
   "execution_count": 40,
   "metadata": {},
   "outputs": [],
   "source": [
    "import matplotlib.pyplot as plt"
   ]
  },
  {
   "cell_type": "code",
   "execution_count": 31,
   "metadata": {},
   "outputs": [],
   "source": [
    "import numpy as np"
   ]
  },
  {
   "cell_type": "code",
   "execution_count": 34,
   "metadata": {},
   "outputs": [],
   "source": [
    "x=np.array(dayDF[\"day_Name\"])"
   ]
  },
  {
   "cell_type": "code",
   "execution_count": 35,
   "metadata": {},
   "outputs": [],
   "source": [
    "y=np.array(dayDF[\"Average_Price\"])"
   ]
  },
  {
   "cell_type": "code",
   "execution_count": 44,
   "metadata": {},
   "outputs": [
    {
     "data": {
      "text/plain": [
       "<matplotlib.collections.PathCollection at 0x1a2af66f98>"
      ]
     },
     "execution_count": 44,
     "metadata": {},
     "output_type": "execute_result"
    },
    {
     "data": {
      "image/png": "[encoded data removed]",
      "text/plain": [
       "<Figure size 432x288 with 1 Axes>"
      ]
     },
     "metadata": {},
     "output_type": "display_data"
    }
   ],
   "source": [
    "\n",
    "plt.scatter(x, y)"
   ]
  },
  {
   "cell_type": "code",
   "execution_count": 45,
   "metadata": {},
   "outputs": [
    {
     "data": {
      "text/html": [
       "<div>\n",
       "<style scoped>\n",
       "    .dataframe tbody tr th:only-of-type {\n",
       "        vertical-align: middle;\n",
       "    }\n",
       "\n",
       "    .dataframe tbody tr th {\n",
       "        vertical-align: top;\n",
       "    }\n",
       "\n",
       "    .dataframe thead th {\n",
       "        text-align: right;\n",
       "    }\n",
       "</style>\n",
       "<table border=\"1\" class=\"dataframe\">\n",
       "  <thead>\n",
       "    <tr style=\"text-align: right;\">\n",
       "      <th></th>\n",
       "      <th>us_holidays_name</th>\n",
       "      <th>listing_id</th>\n",
       "    </tr>\n",
       "  </thead>\n",
       "  <tbody>\n",
       "    <tr>\n",
       "      <th>7</th>\n",
       "      <td>New Year's Day</td>\n",
       "      <td>2922</td>\n",
       "    </tr>\n",
       "    <tr>\n",
       "      <th>1</th>\n",
       "      <td>Christmas Day (Observed)</td>\n",
       "      <td>2831</td>\n",
       "    </tr>\n",
       "    <tr>\n",
       "      <th>0</th>\n",
       "      <td>Christmas Day</td>\n",
       "      <td>2829</td>\n",
       "    </tr>\n",
       "    <tr>\n",
       "      <th>8</th>\n",
       "      <td>New Year's Day (Observed)</td>\n",
       "      <td>2776</td>\n",
       "    </tr>\n",
       "    <tr>\n",
       "      <th>9</th>\n",
       "      <td>Thanksgiving</td>\n",
       "      <td>2746</td>\n",
       "    </tr>\n",
       "    <tr>\n",
       "      <th>10</th>\n",
       "      <td>Veterans Day</td>\n",
       "      <td>2718</td>\n",
       "    </tr>\n",
       "    <tr>\n",
       "      <th>2</th>\n",
       "      <td>Columbus Day</td>\n",
       "      <td>2650</td>\n",
       "    </tr>\n",
       "    <tr>\n",
       "      <th>6</th>\n",
       "      <td>Memorial Day</td>\n",
       "      <td>2583</td>\n",
       "    </tr>\n",
       "    <tr>\n",
       "      <th>4</th>\n",
       "      <td>Labor Day</td>\n",
       "      <td>2544</td>\n",
       "    </tr>\n",
       "    <tr>\n",
       "      <th>11</th>\n",
       "      <td>Washington's Birthday</td>\n",
       "      <td>2529</td>\n",
       "    </tr>\n",
       "    <tr>\n",
       "      <th>3</th>\n",
       "      <td>Independence Day</td>\n",
       "      <td>2371</td>\n",
       "    </tr>\n",
       "    <tr>\n",
       "      <th>5</th>\n",
       "      <td>Martin Luther King, Jr. Day</td>\n",
       "      <td>2231</td>\n",
       "    </tr>\n",
       "  </tbody>\n",
       "</table>\n",
       "</div>"
      ],
      "text/plain": [
       "               us_holidays_name  listing_id\n",
       "7                New Year's Day        2922\n",
       "1      Christmas Day (Observed)        2831\n",
       "0                 Christmas Day        2829\n",
       "8     New Year's Day (Observed)        2776\n",
       "9                  Thanksgiving        2746\n",
       "10                 Veterans Day        2718\n",
       "2                  Columbus Day        2650\n",
       "6                  Memorial Day        2583\n",
       "4                     Labor Day        2544\n",
       "11        Washington's Birthday        2529\n",
       "3              Independence Day        2371\n",
       "5   Martin Luther King, Jr. Day        2231"
      ]
     },
     "execution_count": 45,
     "metadata": {},
     "output_type": "execute_result"
    }
   ],
   "source": [
    "#checking which holiday has maximum listings\n",
    "\n",
    "holidayDF=calendarDF.groupby('us_holidays_name').listing_id.count()\n",
    "holidayDF=holidayDF.reset_index()\n",
    "holidayDF=holidayDF.sort_values('listing_id',ascending=[0])\n",
    "holidayDF"
   ]
  },
  {
   "cell_type": "code",
   "execution_count": 46,
   "metadata": {},
   "outputs": [
    {
     "data": {
      "text/plain": [
       "[Text(0, 0.5, 'Total Number of Listings'), Text(0.5, 0, 'US Holidays Name')]"
      ]
     },
     "execution_count": 46,
     "metadata": {},
     "output_type": "execute_result"
    },
    {
     "data": {
      "image/png": "[encoded data removed]",
      "text/plain": [
       "<Figure size 1368x576 with 1 Axes>"
      ]
     },
     "metadata": {},
     "output_type": "display_data"
    }
   ],
   "source": [
    "import seaborn as sns\n",
    "import matplotlib.pyplot as plt\n",
    "\n",
    "plt.figure(figsize=(19,8))\n",
    "ax = sns.barplot(\"us_holidays_name\", y=\"listing_id\", data=holidayDF,palette=\"Blues_d\")\n",
    "ax.set(xlabel='US Holidays Name', ylabel='Total Number of Listings')"
   ]
  },
  {
   "cell_type": "code",
   "execution_count": 47,
   "metadata": {},
   "outputs": [
    {
     "data": {
      "text/html": [
       "<div>\n",
       "<style scoped>\n",
       "    .dataframe tbody tr th:only-of-type {\n",
       "        vertical-align: middle;\n",
       "    }\n",
       "\n",
       "    .dataframe tbody tr th {\n",
       "        vertical-align: top;\n",
       "    }\n",
       "\n",
       "    .dataframe thead th {\n",
       "        text-align: right;\n",
       "    }\n",
       "</style>\n",
       "<table border=\"1\" class=\"dataframe\">\n",
       "  <thead>\n",
       "    <tr style=\"text-align: right;\">\n",
       "      <th></th>\n",
       "      <th>us_holidays_name</th>\n",
       "      <th>price</th>\n",
       "    </tr>\n",
       "  </thead>\n",
       "  <tbody>\n",
       "    <tr>\n",
       "      <th>3</th>\n",
       "      <td>Independence Day</td>\n",
       "      <td>151.402362</td>\n",
       "    </tr>\n",
       "    <tr>\n",
       "      <th>6</th>\n",
       "      <td>Memorial Day</td>\n",
       "      <td>143.233837</td>\n",
       "    </tr>\n",
       "    <tr>\n",
       "      <th>4</th>\n",
       "      <td>Labor Day</td>\n",
       "      <td>142.087264</td>\n",
       "    </tr>\n",
       "    <tr>\n",
       "      <th>10</th>\n",
       "      <td>Veterans Day</td>\n",
       "      <td>140.070272</td>\n",
       "    </tr>\n",
       "    <tr>\n",
       "      <th>7</th>\n",
       "      <td>New Year's Day</td>\n",
       "      <td>138.126968</td>\n",
       "    </tr>\n",
       "    <tr>\n",
       "      <th>0</th>\n",
       "      <td>Christmas Day</td>\n",
       "      <td>137.974903</td>\n",
       "    </tr>\n",
       "    <tr>\n",
       "      <th>1</th>\n",
       "      <td>Christmas Day (Observed)</td>\n",
       "      <td>137.895797</td>\n",
       "    </tr>\n",
       "    <tr>\n",
       "      <th>9</th>\n",
       "      <td>Thanksgiving</td>\n",
       "      <td>136.054989</td>\n",
       "    </tr>\n",
       "    <tr>\n",
       "      <th>8</th>\n",
       "      <td>New Year's Day (Observed)</td>\n",
       "      <td>135.572767</td>\n",
       "    </tr>\n",
       "    <tr>\n",
       "      <th>2</th>\n",
       "      <td>Columbus Day</td>\n",
       "      <td>134.985660</td>\n",
       "    </tr>\n",
       "  </tbody>\n",
       "</table>\n",
       "</div>"
      ],
      "text/plain": [
       "             us_holidays_name       price\n",
       "3            Independence Day  151.402362\n",
       "6                Memorial Day  143.233837\n",
       "4                   Labor Day  142.087264\n",
       "10               Veterans Day  140.070272\n",
       "7              New Year's Day  138.126968\n",
       "0               Christmas Day  137.974903\n",
       "1    Christmas Day (Observed)  137.895797\n",
       "9                Thanksgiving  136.054989\n",
       "8   New Year's Day (Observed)  135.572767\n",
       "2                Columbus Day  134.985660"
      ]
     },
     "execution_count": 47,
     "metadata": {},
     "output_type": "execute_result"
    }
   ],
   "source": [
    "holidayPriceDF=calendarDF.groupby('us_holidays_name').price.mean()\n",
    "holidayPriceDF=holidayPriceDF.reset_index()\n",
    "holidayPriceDF=holidayPriceDF.sort_values('price',ascending=[0])\n",
    "\n",
    "holidayPriceDF.head(10)"
   ]
  },
  {
   "cell_type": "code",
   "execution_count": 55,
   "metadata": {},
   "outputs": [
    {
     "data": {
      "text/plain": [
       "[Text(0, 0.5, 'Average Price'), Text(0.5, 0, 'US Holidays Name')]"
      ]
     },
     "execution_count": 55,
     "metadata": {},
     "output_type": "execute_result"
    },
    {
     "data": {
      "image/png": "[encoded data removed]",
      "text/plain": [
       "<Figure size 1368x576 with 1 Axes>"
      ]
     },
     "metadata": {},
     "output_type": "display_data"
    }
   ],
   "source": [
    "# visualizing the same\n",
    "import seaborn as sns\n",
    "import matplotlib.pyplot as plt\n",
    "\n",
    "plt.figure(figsize=(19,8))\n",
    "ax = sns.barplot(\"us_holidays_name\", y=\"price\", data=holidayPriceDF,palette=\"Blues_d\")\n",
    "ax.set(xlabel='US Holidays Name', ylabel='Average Price')"
   ]
  },
  {
   "cell_type": "code",
   "execution_count": 56,
   "metadata": {},
   "outputs": [
    {
     "data": {
      "text/html": [
       "<div>\n",
       "<style scoped>\n",
       "    .dataframe tbody tr th:only-of-type {\n",
       "        vertical-align: middle;\n",
       "    }\n",
       "\n",
       "    .dataframe tbody tr th {\n",
       "        vertical-align: top;\n",
       "    }\n",
       "\n",
       "    .dataframe thead th {\n",
       "        text-align: right;\n",
       "    }\n",
       "</style>\n",
       "<table border=\"1\" class=\"dataframe\">\n",
       "  <thead>\n",
       "    <tr style=\"text-align: right;\">\n",
       "      <th></th>\n",
       "      <th>us_holidays_name</th>\n",
       "      <th>number_Of_Listings</th>\n",
       "      <th>average_Price</th>\n",
       "    </tr>\n",
       "  </thead>\n",
       "  <tbody>\n",
       "    <tr>\n",
       "      <th>0</th>\n",
       "      <td>New Year's Day</td>\n",
       "      <td>2922</td>\n",
       "      <td>138.126968</td>\n",
       "    </tr>\n",
       "    <tr>\n",
       "      <th>1</th>\n",
       "      <td>Christmas Day (Observed)</td>\n",
       "      <td>2831</td>\n",
       "      <td>137.895797</td>\n",
       "    </tr>\n",
       "    <tr>\n",
       "      <th>2</th>\n",
       "      <td>Christmas Day</td>\n",
       "      <td>2829</td>\n",
       "      <td>137.974903</td>\n",
       "    </tr>\n",
       "    <tr>\n",
       "      <th>3</th>\n",
       "      <td>New Year's Day (Observed)</td>\n",
       "      <td>2776</td>\n",
       "      <td>135.572767</td>\n",
       "    </tr>\n",
       "    <tr>\n",
       "      <th>4</th>\n",
       "      <td>Thanksgiving</td>\n",
       "      <td>2746</td>\n",
       "      <td>136.054989</td>\n",
       "    </tr>\n",
       "    <tr>\n",
       "      <th>5</th>\n",
       "      <td>Veterans Day</td>\n",
       "      <td>2718</td>\n",
       "      <td>140.070272</td>\n",
       "    </tr>\n",
       "    <tr>\n",
       "      <th>6</th>\n",
       "      <td>Columbus Day</td>\n",
       "      <td>2650</td>\n",
       "      <td>134.985660</td>\n",
       "    </tr>\n",
       "    <tr>\n",
       "      <th>7</th>\n",
       "      <td>Memorial Day</td>\n",
       "      <td>2583</td>\n",
       "      <td>143.233837</td>\n",
       "    </tr>\n",
       "    <tr>\n",
       "      <th>8</th>\n",
       "      <td>Labor Day</td>\n",
       "      <td>2544</td>\n",
       "      <td>142.087264</td>\n",
       "    </tr>\n",
       "    <tr>\n",
       "      <th>9</th>\n",
       "      <td>Washington's Birthday</td>\n",
       "      <td>2529</td>\n",
       "      <td>125.353895</td>\n",
       "    </tr>\n",
       "    <tr>\n",
       "      <th>10</th>\n",
       "      <td>Independence Day</td>\n",
       "      <td>2371</td>\n",
       "      <td>151.402362</td>\n",
       "    </tr>\n",
       "    <tr>\n",
       "      <th>11</th>\n",
       "      <td>Martin Luther King, Jr. Day</td>\n",
       "      <td>2231</td>\n",
       "      <td>121.740475</td>\n",
       "    </tr>\n",
       "  </tbody>\n",
       "</table>\n",
       "</div>"
      ],
      "text/plain": [
       "               us_holidays_name  number_Of_Listings  average_Price\n",
       "0                New Year's Day                2922     138.126968\n",
       "1      Christmas Day (Observed)                2831     137.895797\n",
       "2                 Christmas Day                2829     137.974903\n",
       "3     New Year's Day (Observed)                2776     135.572767\n",
       "4                  Thanksgiving                2746     136.054989\n",
       "5                  Veterans Day                2718     140.070272\n",
       "6                  Columbus Day                2650     134.985660\n",
       "7                  Memorial Day                2583     143.233837\n",
       "8                     Labor Day                2544     142.087264\n",
       "9         Washington's Birthday                2529     125.353895\n",
       "10             Independence Day                2371     151.402362\n",
       "11  Martin Luther King, Jr. Day                2231     121.740475"
      ]
     },
     "execution_count": 56,
     "metadata": {},
     "output_type": "execute_result"
    }
   ],
   "source": [
    "merger=pd.merge(holidayDF,holidayPriceDF,on='us_holidays_name')\n",
    "merger=merger.rename(columns={'listing_id':'number_Of_Listings'})\n",
    "merger=merger.rename(columns={'price':'average_Price'})\n",
    "merger"
   ]
  },
  {
   "cell_type": "code",
   "execution_count": null,
   "metadata": {},
   "outputs": [],
   "source": []
  },
  {
   "cell_type": "code",
   "execution_count": 58,
   "metadata": {},
   "outputs": [
    {
     "data": {
      "text/plain": [
       "Month\n",
       "07    153.407527\n",
       "Name: price, dtype: float64"
      ]
     },
     "execution_count": 58,
     "metadata": {},
     "output_type": "execute_result"
    }
   ],
   "source": [
    "#analyzing longweekednd holiday days\n",
    "\n",
    "columbusDF=calendarDF[(calendarDF['Year'] == '2016') & (calendarDF['Month'] == '07' ) & ((calendarDF['Day'] == '02') | (calendarDF['Day'] == '03') | (calendarDF['Day'] == '04'))]\n",
    "columbusDF.groupby('Month').price.mean()"
   ]
  },
  {
   "cell_type": "code",
   "execution_count": 59,
   "metadata": {},
   "outputs": [
    {
     "data": {
      "text/plain": [
       "Month\n",
       "07    152.09415\n",
       "Name: price, dtype: float64"
      ]
     },
     "execution_count": 59,
     "metadata": {},
     "output_type": "execute_result"
    }
   ],
   "source": [
    "#analyzing rest of the days\n",
    "\n",
    "NocolumbusDF=calendarDF[(calendarDF['Year'] == '2016') & (calendarDF['Month'] == '07' ) & ((calendarDF['Day'] != '02') | (calendarDF['Day'] != '03') | (calendarDF['Day'] != '04'))]\n",
    "NocolumbusDF.groupby('Month').price.mean()"
   ]
  },
  {
   "cell_type": "code",
   "execution_count": 63,
   "metadata": {},
   "outputs": [
    {
     "data": {
      "text/html": [
       "<div>\n",
       "<style scoped>\n",
       "    .dataframe tbody tr th:only-of-type {\n",
       "        vertical-align: middle;\n",
       "    }\n",
       "\n",
       "    .dataframe tbody tr th {\n",
       "        vertical-align: top;\n",
       "    }\n",
       "\n",
       "    .dataframe thead th {\n",
       "        text-align: right;\n",
       "    }\n",
       "</style>\n",
       "<table border=\"1\" class=\"dataframe\">\n",
       "  <thead>\n",
       "    <tr style=\"text-align: right;\">\n",
       "      <th></th>\n",
       "      <th>Day</th>\n",
       "      <th>Average_Price</th>\n",
       "    </tr>\n",
       "  </thead>\n",
       "  <tbody>\n",
       "    <tr>\n",
       "      <th>0</th>\n",
       "      <td>01</td>\n",
       "      <td>157.480000</td>\n",
       "    </tr>\n",
       "    <tr>\n",
       "      <th>1</th>\n",
       "      <td>02</td>\n",
       "      <td>157.080967</td>\n",
       "    </tr>\n",
       "    <tr>\n",
       "      <th>2</th>\n",
       "      <td>03</td>\n",
       "      <td>151.752961</td>\n",
       "    </tr>\n",
       "    <tr>\n",
       "      <th>3</th>\n",
       "      <td>04</td>\n",
       "      <td>151.402362</td>\n",
       "    </tr>\n",
       "    <tr>\n",
       "      <th>4</th>\n",
       "      <td>05</td>\n",
       "      <td>150.522832</td>\n",
       "    </tr>\n",
       "    <tr>\n",
       "      <th>5</th>\n",
       "      <td>06</td>\n",
       "      <td>150.200837</td>\n",
       "    </tr>\n",
       "    <tr>\n",
       "      <th>6</th>\n",
       "      <td>07</td>\n",
       "      <td>150.709570</td>\n",
       "    </tr>\n",
       "    <tr>\n",
       "      <th>7</th>\n",
       "      <td>08</td>\n",
       "      <td>156.260469</td>\n",
       "    </tr>\n",
       "    <tr>\n",
       "      <th>8</th>\n",
       "      <td>09</td>\n",
       "      <td>156.448161</td>\n",
       "    </tr>\n",
       "    <tr>\n",
       "      <th>9</th>\n",
       "      <td>10</td>\n",
       "      <td>150.302538</td>\n",
       "    </tr>\n",
       "  </tbody>\n",
       "</table>\n",
       "</div>"
      ],
      "text/plain": [
       "  Day  Average_Price\n",
       "0  01     157.480000\n",
       "1  02     157.080967\n",
       "2  03     151.752961\n",
       "3  04     151.402362\n",
       "4  05     150.522832\n",
       "5  06     150.200837\n",
       "6  07     150.709570\n",
       "7  08     156.260469\n",
       "8  09     156.448161\n",
       "9  10     150.302538"
      ]
     },
     "execution_count": 63,
     "metadata": {},
     "output_type": "execute_result"
    }
   ],
   "source": [
    "# analyzing data from date 1st of July to date 9th of July which includes both long weekend and normal workdays\n",
    "\n",
    "JulyDF=calendarDF[(calendarDF['Year'] == '2016') & (calendarDF['Month'] == '07' )& ((calendarDF['Day'] == '01' )| (calendarDF['Day'] == '02' )| (calendarDF['Day'] == '03' )| (calendarDF['Day'] == '04' )| (calendarDF['Day'] == '05' )| (calendarDF['Day'] == '06' )| (calendarDF['Day'] == '07' )| (calendarDF['Day'] == '08' )| (calendarDF['Day'] == '09' )| (calendarDF['Day'] == '10' ))]\n",
    "JulyDF=JulyDF.groupby('Day').price.mean()\n",
    "JulyDF=JulyDF.reset_index()\n",
    "JulyDF=JulyDF.sort_values('Day',ascending=[1])\n",
    "JulyDF=JulyDF.rename(columns={'price':'Average_Price'})\n",
    "JulyDF.head(10)"
   ]
  },
  {
   "cell_type": "code",
   "execution_count": 64,
   "metadata": {},
   "outputs": [
    {
     "data": {
      "image/png": "[encoded data removed]",
      "text/plain": [
       "<Figure size 432x288 with 1 Axes>"
      ]
     },
     "metadata": {},
     "output_type": "display_data"
    }
   ],
   "source": [
    "import numpy as np\n",
    "import matplotlib.pyplot as plt\n",
    "\n",
    "x=JulyDF['Day'].tolist()\n",
    "y=JulyDF['Average_Price'].tolist()\n",
    "\n",
    "plt.plot(x,y, 'ro-')\n",
    "plt.ylabel('Average Price')\n",
    "plt.xlabel('Days')\n",
    "plt.show()"
   ]
  },
  {
   "cell_type": "code",
   "execution_count": null,
   "metadata": {},
   "outputs": [],
   "source": []
  }
 ],
 "metadata": {
  "kernelspec": {
   "display_name": "Python 3",
   "language": "python",
   "name": "python3"
  },
  "language_info": {
   "codemirror_mode": {
    "name": "ipython",
    "version": 3
   },
   "file_extension": ".py",
   "mimetype": "text/x-python",
   "name": "python",
   "nbconvert_exporter": "python",
   "pygments_lexer": "ipython3",
   "version": "3.7.1"
  }
 },
 "nbformat": 4,
 "nbformat_minor": 2
}
